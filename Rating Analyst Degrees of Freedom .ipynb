{
 "cells": [
  {
   "cell_type": "markdown",
   "metadata": {},
   "source": [
    "# Source code for \"Rating Analyst Degrees of Freedom\" - Vijay Raghavan, UMKC Law Rev. 2018 (forthcoming)\n",
    "\n",
    "## Code adapted from: https://turi.com/learn/gallery/notebooks/predict-loan-default.html\n",
    "\n",
    "Importing data and relevant libraries"
   ]
  },
  {
   "cell_type": "code",
   "execution_count": 1,
   "metadata": {
    "collapsed": false
   },
   "outputs": [],
   "source": [
    "import pandas as pd\n",
    "import numpy as np\n",
    "import matplotlib.pyplot as plt\n",
    "%matplotlib inline\n",
    "from sklearn.metrics import accuracy_score\n",
    "from sklearn.metrics import precision_score\n",
    "from sklearn.metrics import recall_score\n",
    "from sklearn.model_selection import train_test_split\n",
    "from sklearn.preprocessing import LabelEncoder\n",
    "from sklearn.linear_model import LogisticRegression\n",
    "from sklearn.tree import DecisionTreeClassifier\n",
    "from sklearn.neighbors import KNeighborsClassifier\n",
    "import warnings\n",
    "warnings.filterwarnings(\"ignore\")\n",
    "\n",
    "pd.options.mode.chained_assignment = None\n",
    "\n",
    "loans = pd.read_csv('loan_data.csv')"
   ]
  },
  {
   "cell_type": "markdown",
   "metadata": {},
   "source": [
    "Eliminating null entries, creating separate data frames for active and inactive loans, and series for whether loan succeeded or failed"
   ]
  },
  {
   "cell_type": "code",
   "execution_count": 2,
   "metadata": {
    "collapsed": true
   },
   "outputs": [],
   "source": [
    "loans = loans.fillna(0)\n",
    "inactive_loans = loans[loans['inactive_loans'] == 1]\n",
    "active_loans = loans[loans['inactive_loans'] == 0]\n",
    "\n",
    "y = inactive_loans['bad_loans'].astype(int)"
   ]
  },
  {
   "cell_type": "markdown",
   "metadata": {},
   "source": [
    "Limiting features to train model on.  Separating numerical and categorical variables"
   ]
  },
  {
   "cell_type": "code",
   "execution_count": 3,
   "metadata": {
    "collapsed": true
   },
   "outputs": [],
   "source": [
    "num_features_limited = ['sub_grade_num',             # sub-grade of the loan as a number from 0 to 1\n",
    "            'short_emp',                 # one year or less of employment\n",
    "            'emp_length_num',            # number of years of employment\n",
    "            'dti',                       # debt to income ratio\n",
    "            'payment_inc_ratio',         # ratio of the monthly payment to income\n",
    "            'delinq_2yrs',               # number of delinquincies\n",
    "            'delinq_2yrs_zero',          # no delinquincies in last 2 years\n",
    "            'inq_last_6mths',            # number of creditor inquiries in last 6 months\n",
    "            'last_delinq_none',          # has borrower had a delinquincy\n",
    "            'last_major_derog_none',     # has borrower had 90 day or worse rating\n",
    "            'open_acc',                  # number of open credit accounts\n",
    "            'pub_rec',                   # number of derogatory public records\n",
    "            'pub_rec_zero',              # no derogatory public records\n",
    "            'revol_util',                # percent of available credit being used\n",
    "            'total_rec_late_fee',        # total late fees received to day\n",
    "           ]\n",
    "\n",
    "cat_features_limited = ['grade',                     # grade of the loan (categorical)\n",
    "            'home_ownership',            # home_ownership status: own, mortgage or rent\n",
    "            'purpose',                   # the purpose of the loan\n",
    "            ]"
   ]
  },
  {
   "cell_type": "markdown",
   "metadata": {},
   "source": [
    "Defining class to transform categorical variables"
   ]
  },
  {
   "cell_type": "code",
   "execution_count": 4,
   "metadata": {
    "collapsed": true
   },
   "outputs": [],
   "source": [
    "class MultiColumnLabelEncoder:\n",
    "    def __init__(self,columns = None):\n",
    "        self.columns = columns # array of column names to encode\n",
    "\n",
    "    def fit(self,X,y=None):\n",
    "        return self # not relevant here\n",
    "\n",
    "    def transform(self,X):\n",
    "        '''\n",
    "        Transforms columns of X specified in self.columns using\n",
    "        LabelEncoder(). If no columns specified, transforms all\n",
    "        columns in X.\n",
    "        '''\n",
    "        output = X.copy()\n",
    "        if self.columns is not None:\n",
    "            for col in self.columns:\n",
    "                output[col] = LabelEncoder().fit_transform(output[col])\n",
    "        else:\n",
    "            for colname,col in output.iteritems():\n",
    "                output[colname] = LabelEncoder().fit_transform(col)\n",
    "        return output\n",
    "\n",
    "    def fit_transform(self,X,y=None):\n",
    "        return self.fit(X,y).transform(X)\n"
   ]
  },
  {
   "cell_type": "markdown",
   "metadata": {},
   "source": [
    "Creating new data sets for inactive and active loans with modified categorial variables "
   ]
  },
  {
   "cell_type": "code",
   "execution_count": 7,
   "metadata": {
    "collapsed": false
   },
   "outputs": [],
   "source": [
    "inactive_loans_num = inactive_loans[num_features_limited]\n",
    "inactive_loans_cat = inactive_loans[cat_features_limited]\n",
    "inactive_loans_cat = MultiColumnLabelEncoder(columns = cat_features_limited).fit_transform(inactive_loans_cat)\n",
    "inactive_loans_final = pd.concat([inactive_loans_num,inactive_loans_cat],axis=1)\n",
    "\n",
    "X = inactive_loans_final.copy()\n",
    "\n",
    "X = X.reindex_axis(sorted(X.columns), axis=1)\n",
    "X = X.fillna(0)\n",
    "\n",
    "active_loans_num = active_loans[num_features_limited]\n",
    "active_loans_cat = active_loans[cat_features_limited]\n",
    "active_loans_cat = MultiColumnLabelEncoder(columns = cat_features_limited).transform(active_loans_cat)\n",
    "active_loans_final = pd.concat([active_loans_num,active_loans_cat],axis=1)\n",
    "\n",
    "X_active = active_loans_final.copy()\n",
    "\n",
    "X_active = X_active.reindex_axis(sorted(X_active.columns), axis=1)\n",
    "X_active = X_active.fillna(0)"
   ]
  },
  {
   "cell_type": "markdown",
   "metadata": {},
   "source": [
    "Function to return stats for models"
   ]
  },
  {
   "cell_type": "code",
   "execution_count": 6,
   "metadata": {
    "collapsed": true
   },
   "outputs": [],
   "source": [
    "def model_stats(model, x_test, y_test, active):\n",
    "    accuracy = \"%.12f\" % (accuracy_score(y_test, model1.predict(x_test).astype(int)))\n",
    "    precision = \"%.12f\" % (precision_score(y_test, model1.predict(x_test).astype(int)))\n",
    "    recall = \"%.12f\" % (recall_score(y_test, model1.predict(x_test).astype(int)))\n",
    "    defaults = \"%d\" % (model1.predict(X_active).sum())\n",
    "    \n",
    "    return [[accuracy, precision, recall, defaults]]"
   ]
  },
  {
   "cell_type": "markdown",
   "metadata": {},
   "source": [
    "Training, testing, and forecasting for logistic models with different training/test ratios"
   ]
  },
  {
   "cell_type": "code",
   "execution_count": 8,
   "metadata": {
    "collapsed": false
   },
   "outputs": [],
   "source": [
    "data = np.array([np.arange(9)]*4).T\n",
    "splits = []\n",
    "\n",
    "for i in range(9):\n",
    "    splits.append(\"%d/%d\" % ((i+1)*10, 100-(i+1)*10))\n",
    "\n",
    "model1_summary = pd.DataFrame(data, index=splits, columns=[\"Accuracy\",\"Precision\",\"Recall\",\"Defaults\"])\n",
    "\n",
    "for i in range(9):\n",
    "    x_train, x_test, y_train, y_test = train_test_split(X, y, train_size=float(i+1)/float(10), random_state=5)\n",
    "    model1 = LogisticRegression(class_weight='balanced')\n",
    "    model1.fit(x_train,y_train)\n",
    "    split = [\"%d/%d\" % ((i+1)*10, 100-(i+1)*10)]\n",
    "    stats = model_stats(model1, x_test, y_test, X_active)[0]\n",
    "    model1_summary[\"Accuracy\"][split] = stats[0]\n",
    "    model1_summary[\"Precision\"][split] = stats[1]\n",
    "    model1_summary[\"Recall\"][split] = stats[2]\n",
    "    model1_summary[\"Defaults\"][split] = stats[3]"
   ]
  },
  {
   "cell_type": "code",
   "execution_count": 9,
   "metadata": {
    "collapsed": false
   },
   "outputs": [
    {
     "data": {
      "text/html": [
       "<div>\n",
       "<table border=\"1\" class=\"dataframe\">\n",
       "  <thead>\n",
       "    <tr style=\"text-align: right;\">\n",
       "      <th></th>\n",
       "      <th>Accuracy</th>\n",
       "      <th>Precision</th>\n",
       "      <th>Recall</th>\n",
       "      <th>Defaults</th>\n",
       "    </tr>\n",
       "  </thead>\n",
       "  <tbody>\n",
       "    <tr>\n",
       "      <th>40/60</th>\n",
       "      <td>0.663725956637</td>\n",
       "      <td>0.305885315490</td>\n",
       "      <td>0.609708877097</td>\n",
       "      <td>136721</td>\n",
       "    </tr>\n",
       "    <tr>\n",
       "      <th>10/90</th>\n",
       "      <td>0.666397817793</td>\n",
       "      <td>0.307349342121</td>\n",
       "      <td>0.606570704414</td>\n",
       "      <td>136737</td>\n",
       "    </tr>\n",
       "    <tr>\n",
       "      <th>50/50</th>\n",
       "      <td>0.661588150855</td>\n",
       "      <td>0.303113357030</td>\n",
       "      <td>0.612760799931</td>\n",
       "      <td>137304</td>\n",
       "    </tr>\n",
       "    <tr>\n",
       "      <th>30/70</th>\n",
       "      <td>0.662802213807</td>\n",
       "      <td>0.305335333190</td>\n",
       "      <td>0.614943591640</td>\n",
       "      <td>137595</td>\n",
       "    </tr>\n",
       "    <tr>\n",
       "      <th>20/80</th>\n",
       "      <td>0.664967477520</td>\n",
       "      <td>0.306567762196</td>\n",
       "      <td>0.609735085074</td>\n",
       "      <td>137700</td>\n",
       "    </tr>\n",
       "    <tr>\n",
       "      <th>60/40</th>\n",
       "      <td>0.660440837632</td>\n",
       "      <td>0.303023850085</td>\n",
       "      <td>0.615151842646</td>\n",
       "      <td>137846</td>\n",
       "    </tr>\n",
       "    <tr>\n",
       "      <th>70/30</th>\n",
       "      <td>0.657205774407</td>\n",
       "      <td>0.302142606252</td>\n",
       "      <td>0.616542431193</td>\n",
       "      <td>139152</td>\n",
       "    </tr>\n",
       "    <tr>\n",
       "      <th>90/10</th>\n",
       "      <td>0.656797977326</td>\n",
       "      <td>0.298275136727</td>\n",
       "      <td>0.619213973799</td>\n",
       "      <td>139270</td>\n",
       "    </tr>\n",
       "    <tr>\n",
       "      <th>80/20</th>\n",
       "      <td>0.660141913384</td>\n",
       "      <td>0.304697418536</td>\n",
       "      <td>0.620422231797</td>\n",
       "      <td>139408</td>\n",
       "    </tr>\n",
       "  </tbody>\n",
       "</table>\n",
       "</div>"
      ],
      "text/plain": [
       "             Accuracy       Precision          Recall Defaults\n",
       "40/60  0.663725956637  0.305885315490  0.609708877097   136721\n",
       "10/90  0.666397817793  0.307349342121  0.606570704414   136737\n",
       "50/50  0.661588150855  0.303113357030  0.612760799931   137304\n",
       "30/70  0.662802213807  0.305335333190  0.614943591640   137595\n",
       "20/80  0.664967477520  0.306567762196  0.609735085074   137700\n",
       "60/40  0.660440837632  0.303023850085  0.615151842646   137846\n",
       "70/30  0.657205774407  0.302142606252  0.616542431193   139152\n",
       "90/10  0.656797977326  0.298275136727  0.619213973799   139270\n",
       "80/20  0.660141913384  0.304697418536  0.620422231797   139408"
      ]
     },
     "execution_count": 9,
     "metadata": {},
     "output_type": "execute_result"
    }
   ],
   "source": [
    "model1_summary.sort(\"Defaults\")"
   ]
  },
  {
   "cell_type": "code",
   "execution_count": 14,
   "metadata": {
    "collapsed": false
   },
   "outputs": [
    {
     "data": {
      "text/plain": [
       "[<matplotlib.lines.Line2D at 0x114040650>]"
      ]
     },
     "execution_count": 14,
     "metadata": {},
     "output_type": "execute_result"
    },
    {
     "data": {
      "image/png": "[encoded data removed]",
      "text/plain": [
       "<matplotlib.figure.Figure at 0x119929350>"
      ]
     },
     "metadata": {},
     "output_type": "display_data"
    }
   ],
   "source": [
    "fig, ax = plt.subplots()\n",
    "# set x labels and y labels\n",
    "ax.plot(model1_summary.index.tolist(),model1_summary[\"Defaults\"].tolist())"
   ]
  },
  {
   "cell_type": "code",
   "execution_count": 15,
   "metadata": {
    "collapsed": false
   },
   "outputs": [],
   "source": [
    "# Creating new DataFrame for models populated with Logistic Regression with 40/60 split\n",
    "data = np.array([np.arange(3)]*4).T\n",
    "models_summary = pd.DataFrame(data, index=[\"Logistic Regression\", \"Decision Tree\", \"Nearest Neighbors\"], \n",
    "                              columns=[\"Accuracy\",\"Precision\",\"Recall\",\"Predicted Defaults\"])\n",
    "\n",
    "models_summary[\"Accuracy\"][\"Logistic Regression\"] = model1_summary[\"Accuracy\"][\"40/60\"]\n",
    "models_summary[\"Precision\"][\"Logistic Regression\"] = model1_summary[\"Precision\"][\"40/60\"]\n",
    "models_summary[\"Recall\"][\"Logistic Regression\"] = model1_summary[\"Recall\"][\"40/60\"]\n",
    "models_summary[\"Predicted Defaults\"][\"Logistic Regression\"] = model1_summary[\"Defaults\"][\"40/60\"]\n",
    "\n",
    "# Decision Tree classifier\n",
    "x_train, x_test, y_train, y_test = train_test_split(X, y, train_size=0.4, random_state=5)\n",
    "model2 = DecisionTreeClassifier(max_depth=4, max_features='sqrt', class_weight='balanced')\n",
    "model2.fit(x_train,y_train) \n",
    "stats = model_stats(model2, x_test, y_test, X_active)[0] \n",
    "models_summary[\"Accuracy\"][\"Decision Tree\"] = stats[0]\n",
    "models_summary[\"Precision\"][\"Decision Tree\"] = stats[1]\n",
    "models_summary[\"Recall\"][\"Decision Tree\"] = stats[2]\n",
    "models_summary[\"Predicted Defaults\"][\"Decision Tree\"] = stats[3]"
   ]
  },
  {
   "cell_type": "code",
   "execution_count": 18,
   "metadata": {
    "collapsed": true
   },
   "outputs": [],
   "source": [
    "# Nearest Neighbors\n",
    "x_train, x_test, y_train, y_test = train_test_split(X, y, train_size=0.4, random_state=5)\n",
    "model1 = KNeighborsClassifier(n_neighbors=1)\n",
    "model1.fit(x_train,y_train)\n",
    "stats = model_stats(model1, x_test, y_test, X_active)[0] \n",
    "models_summary[\"Accuracy\"][\"Nearest Neighbors\"] = stats[0]\n",
    "models_summary[\"Precision\"][\"Nearest Neighbors\"] = stats[1]\n",
    "models_summary[\"Recall\"][\"Nearest Neighbors\"] = stats[2]\n",
    "models_summary[\"Predicted Defaults\"][\"Nearest Neighbors\"] = stats[3]"
   ]
  },
  {
   "cell_type": "code",
   "execution_count": 19,
   "metadata": {
    "collapsed": false
   },
   "outputs": [
    {
     "data": {
      "text/html": [
       "<div>\n",
       "<table border=\"1\" class=\"dataframe\">\n",
       "  <thead>\n",
       "    <tr style=\"text-align: right;\">\n",
       "      <th></th>\n",
       "      <th>Accuracy</th>\n",
       "      <th>Precision</th>\n",
       "      <th>Recall</th>\n",
       "      <th>Predicted Defaults</th>\n",
       "    </tr>\n",
       "  </thead>\n",
       "  <tbody>\n",
       "    <tr>\n",
       "      <th>Logistic Regression</th>\n",
       "      <td>0.663725956637</td>\n",
       "      <td>0.305885315490</td>\n",
       "      <td>0.609708877097</td>\n",
       "      <td>136721</td>\n",
       "    </tr>\n",
       "    <tr>\n",
       "      <th>Decision Tree</th>\n",
       "      <td>0.660490722490</td>\n",
       "      <td>0.304140919099</td>\n",
       "      <td>0.614082891152</td>\n",
       "      <td>139270</td>\n",
       "    </tr>\n",
       "    <tr>\n",
       "      <th>Nearest Neighbors</th>\n",
       "      <td>0.724964317270</td>\n",
       "      <td>0.261548964576</td>\n",
       "      <td>0.247239351785</td>\n",
       "      <td>63885</td>\n",
       "    </tr>\n",
       "  </tbody>\n",
       "</table>\n",
       "</div>"
      ],
      "text/plain": [
       "                           Accuracy       Precision          Recall  \\\n",
       "Logistic Regression  0.663725956637  0.305885315490  0.609708877097   \n",
       "Decision Tree        0.660490722490  0.304140919099  0.614082891152   \n",
       "Nearest Neighbors    0.724964317270  0.261548964576  0.247239351785   \n",
       "\n",
       "                     Predicted Defaults  \n",
       "Logistic Regression              136721  \n",
       "Decision Tree                    139270  \n",
       "Nearest Neighbors                 63885  "
      ]
     },
     "execution_count": 19,
     "metadata": {},
     "output_type": "execute_result"
    }
   ],
   "source": [
    "models_summary"
   ]
  }
 ],
 "metadata": {
  "kernelspec": {
   "display_name": "Python 2",
   "language": "python",
   "name": "python2"
  },
  "language_info": {
   "codemirror_mode": {
    "name": "ipython",
    "version": 2
   },
   "file_extension": ".py",
   "mimetype": "text/x-python",
   "name": "python",
   "nbconvert_exporter": "python",
   "pygments_lexer": "ipython2",
   "version": "2.7.11"
  }
 },
 "nbformat": 4,
 "nbformat_minor": 0
}
